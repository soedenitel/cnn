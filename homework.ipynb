{
 "cells": [
  {
   "cell_type": "markdown",
   "id": "93ccf695",
   "metadata": {},
   "source": [
    "# Описание задания\n",
    "Постройте сегментацию изображений облаков типа Fish, используя сети Unet, PSPNet или FPN. В качестве базовых сетей можно использовать ResNet, MobileNet, DenseNet или любые другие подходящие. Можно использовать обученные модели сетей (входные размеры 384х256).\n",
    "\n",
    "Постройте ансамбль предсказаний, выбирая среднее значение из нескольких. Выгрузите результаты предсказания в требуемом формате (sample_submission.csv).\n",
    "\n",
    "Данные:\n",
    "* video.ittensive.com/machine-learning/clouds/train.csv.gz (54 Мб)\n",
    "* video.ittensive.com/machine-learning/clouds/train_images_small.tar.gz (212 Мб)\n",
    "* video.ittensive.com/machine-learning/clouds/test_images_small.tar.gz (142 Мб)\n",
    "* video.ittensive.com/machine-learning/clouds/sample_submission.csv.gz\n",
    "\n",
    "Модели:\n",
    "* video.ittensive.com/machine-learning/clouds/unet.fish.h5\n",
    "* video.ittensive.com/machine-learning/clouds/fpn.fish.h5\n",
    "* video.ittensive.com/machine-learning/clouds/pspnet.fish.h5\n",
    "\n",
    "Итоговый файл с кодом (.py или .ipynb) выложите в github с портфолио."
   ]
  },
  {
   "cell_type": "code",
   "execution_count": 1,
   "id": "66767cd1",
   "metadata": {},
   "outputs": [
    {
     "name": "stdout",
     "output_type": "stream",
     "text": [
      "Segmentation Models: using `keras` framework.\n"
     ]
    }
   ],
   "source": [
    "import numpy as np\n",
    "import pandas as pd\n",
    "from tensorflow import keras\n",
    "import tensorflow as tf\n",
    "from segmentation_models.losses import dice_loss\n",
    "from keras.utils import load_img, img_to_array\n",
    "from keras import optimizers\n",
    "from keras import backend as K\n",
    "import re\n",
    "import os\n",
    "\n",
    "os.environ[\"KERAS_BACKEND\"] = \"plaidml.keras.backend\"\n",
    "\n",
    "TEST_IMAGES_FOLDER = os.path.join(os.getcwd(), \"test_images_small\")\n",
    "\n",
    "MODEL_SERIALIZED_FILES = {\n",
    "    'unet': 'unet.fish.h5',\n",
    "    'fpn': 'fpn.fish.h5',\n",
    "#     Эта модель не загружается ValueError: bad marshal data (unknown type code) 'pspnet': 'pspnet.fish.h5'\n",
    "}"
   ]
  },
  {
   "cell_type": "code",
   "execution_count": 2,
   "id": "286f3311",
   "metadata": {},
   "outputs": [],
   "source": [
    "batch_size = 10\n",
    "image_x = 384 # 525\n",
    "image_y = 256 # 350\n",
    "image_ch = 3 # 3\n",
    "\n",
    "\n",
    "def load_test_x(files_list: list):\n",
    "    x = [[]] * len(files_list)\n",
    "    for j, file in enumerate(files_list):\n",
    "        img = load_img(os.path.join(TEST_IMAGES_FOLDER, file), target_size=(image_y, image_x))\n",
    "        img = img_to_array(img)\n",
    "        x[j] = np.expand_dims(img, axis=0)\n",
    "    return np.array(x).reshape(len(files_list), image_y, image_x, image_ch)\n",
    "\n",
    "\n",
    "def load_test_data(files_list: list, batch_size):\n",
    "    while True:\n",
    "        batch_start = 0\n",
    "        batch_end = batch_size\n",
    "        while batch_start < len(files_list):\n",
    "            limit = min(batch_end, len(files_list))\n",
    "            yield (load_test_x(files_list[batch_start:limit]))\n",
    "            batch_start += batch_size   \n",
    "            batch_end += batch_size\n",
    "\n",
    "\n",
    "def is_image_file(file_name: str) -> bool:\n",
    "    return os.path.isfile(os.path.join(TEST_IMAGES_FOLDER, file_name)) and (re.match(r'^.+\\.jpg$', file_name) is not None)\n",
    "\n",
    "\n",
    "def calculate_average_predictions(predictions: dict) -> list:\n",
    "    result_data = list()\n",
    "    predicted_values = list(predictions.values())\n",
    "    models_number = len(predicted_values)\n",
    "    if models_number <= 1:\n",
    "        return None\n",
    "    \n",
    "    for cortege_number in range(len(predicted_values[0])):\n",
    "        result = predicted_values[0][cortege_number][:, :, 0]\n",
    "        for model_index in range(1, models_number):\n",
    "            result += predicted_values[model_index][cortege_number][:, :, 0]\n",
    "        result_data.append((result / models_number).flatten())\n",
    "        \n",
    "    return result_data\n",
    "\n",
    "\n",
    "def rle_encode(to_encode: np.array) -> list:\n",
    "    rle_encoded = list()\n",
    "    start_pixel, pixels_number = -1, -1\n",
    "    for pixel_index, pixel_value in enumerate(to_encode):\n",
    "        if pixel_value == 1:\n",
    "            if start_pixel == -1:\n",
    "                start_pixel = pixel_index\n",
    "                pixels_number = 1\n",
    "            else:\n",
    "                pixels_number += 1\n",
    "        else:\n",
    "            if start_pixel != -1:\n",
    "                rle_encoded.append(start_pixel)\n",
    "                rle_encoded.append(pixels_number)\n",
    "                start_pixel = -1\n",
    "                pixels_number = -1\n",
    "    return rle_encoded\n",
    "\n",
    "\n",
    "def convert_predictions_to_rle_column(predictions: list) -> pd.Series:\n",
    "    encoded_pixels_column = []\n",
    "    for cortege in predictions:\n",
    "        rle_encoded = ' '.join(str(value) for value in rle_encode(cortege.astype(\"int8\")))\n",
    "        if len(rle_encoded) > 0:\n",
    "            encoded_pixels_column.append(rle_encoded)\n",
    "        else:\n",
    "            encoded_pixels_column.append(None)\n",
    "     \n",
    "    return pd.Series(encoded_pixels_column)"
   ]
  },
  {
   "cell_type": "markdown",
   "id": "949e7555",
   "metadata": {},
   "source": [
    "### Тестовые данные"
   ]
  },
  {
   "cell_type": "code",
   "execution_count": 3,
   "id": "d1c97407",
   "metadata": {},
   "outputs": [
    {
     "data": {
      "text/plain": [
       "['002f507.jpg', '0035ae9.jpg', '0038327.jpg', '004f759.jpg', '005ba08.jpg']"
      ]
     },
     "execution_count": 3,
     "metadata": {},
     "output_type": "execute_result"
    }
   ],
   "source": [
    "test_files_list = [\n",
    "    file_name for file_name in os.listdir(TEST_IMAGES_FOLDER) if is_image_file(file_name)\n",
    "]\n",
    "test_files_list[:5]"
   ]
  },
  {
   "cell_type": "markdown",
   "id": "6fb9a130",
   "metadata": {},
   "source": [
    "### Загрузка моделей и построение предсказаний"
   ]
  },
  {
   "cell_type": "code",
   "execution_count": 4,
   "id": "ff696432",
   "metadata": {},
   "outputs": [
    {
     "name": "stdout",
     "output_type": "stream",
     "text": [
      "Работа с моделью unet\n",
      "3699/3699 [==============================] - 847s 229ms/step\n",
      "\n",
      "Работа с моделью fpn\n",
      "3699/3699 [==============================] - 744s 201ms/step\n",
      "\n",
      "CPU times: total: 4h 28min 14s\n",
      "Wall time: 26min 39s\n"
     ]
    }
   ],
   "source": [
    "%%time\n",
    "predictions = dict()\n",
    "for model_name, model_file in MODEL_SERIALIZED_FILES.items():\n",
    "    print(\"Работа с моделью\", model_name)\n",
    "    model = keras.models.load_model(model_file, compile=False)\n",
    "    predictions[model_name] = model.predict(load_test_data(test_files_list, 1), steps=len(test_files_list), verbose=1)\n",
    "    del model\n",
    "    print()"
   ]
  },
  {
   "cell_type": "code",
   "execution_count": 5,
   "id": "a73b85e8",
   "metadata": {},
   "outputs": [
    {
     "name": "stdout",
     "output_type": "stream",
     "text": [
      "CPU times: total: 891 ms\n",
      "Wall time: 894 ms\n"
     ]
    }
   ],
   "source": [
    "%%time\n",
    "data = calculate_average_predictions(predictions)"
   ]
  },
  {
   "cell_type": "code",
   "execution_count": 6,
   "id": "c8e0c161",
   "metadata": {},
   "outputs": [
    {
     "name": "stdout",
     "output_type": "stream",
     "text": [
      "CPU times: total: 6min 46s\n",
      "Wall time: 6min 46s\n"
     ]
    }
   ],
   "source": [
    "%%time\n",
    "encoded_pixels = convert_predictions_to_rle_column(data)"
   ]
  },
  {
   "cell_type": "markdown",
   "id": "0e01d99b",
   "metadata": {},
   "source": [
    "### Формирование файла результатов в требуемом формате"
   ]
  },
  {
   "cell_type": "code",
   "execution_count": 7,
   "id": "890b99da",
   "metadata": {},
   "outputs": [],
   "source": [
    "submission_exampe = pd.read_csv('https://video.ittensive.com/machine-learning/clouds/sample_submission.csv.gz')"
   ]
  },
  {
   "cell_type": "code",
   "execution_count": 8,
   "id": "401d29fe",
   "metadata": {},
   "outputs": [
    {
     "data": {
      "text/html": [
       "<div>\n",
       "<style scoped>\n",
       "    .dataframe tbody tr th:only-of-type {\n",
       "        vertical-align: middle;\n",
       "    }\n",
       "\n",
       "    .dataframe tbody tr th {\n",
       "        vertical-align: top;\n",
       "    }\n",
       "\n",
       "    .dataframe thead th {\n",
       "        text-align: right;\n",
       "    }\n",
       "</style>\n",
       "<table border=\"1\" class=\"dataframe\">\n",
       "  <thead>\n",
       "    <tr style=\"text-align: right;\">\n",
       "      <th></th>\n",
       "      <th>Image_Label</th>\n",
       "      <th>EncodedPixels</th>\n",
       "    </tr>\n",
       "  </thead>\n",
       "  <tbody>\n",
       "    <tr>\n",
       "      <th>0</th>\n",
       "      <td>002f507.jpg_Fish</td>\n",
       "      <td>None</td>\n",
       "    </tr>\n",
       "    <tr>\n",
       "      <th>1</th>\n",
       "      <td>0035ae9.jpg_Fish</td>\n",
       "      <td>None</td>\n",
       "    </tr>\n",
       "    <tr>\n",
       "      <th>2</th>\n",
       "      <td>0038327.jpg_Fish</td>\n",
       "      <td>None</td>\n",
       "    </tr>\n",
       "    <tr>\n",
       "      <th>3</th>\n",
       "      <td>004f759.jpg_Fish</td>\n",
       "      <td>None</td>\n",
       "    </tr>\n",
       "    <tr>\n",
       "      <th>4</th>\n",
       "      <td>005ba08.jpg_Fish</td>\n",
       "      <td>None</td>\n",
       "    </tr>\n",
       "    <tr>\n",
       "      <th>5</th>\n",
       "      <td>006440a.jpg_Fish</td>\n",
       "      <td>9423 2 31514 8 31525 17 31895 39 31935 2 32274...</td>\n",
       "    </tr>\n",
       "    <tr>\n",
       "      <th>6</th>\n",
       "      <td>006f61b.jpg_Fish</td>\n",
       "      <td>79615 2 79631 2 79999 2 80015 2 80383 2 80399 ...</td>\n",
       "    </tr>\n",
       "    <tr>\n",
       "      <th>7</th>\n",
       "      <td>0078e5a.jpg_Fish</td>\n",
       "      <td>36488 1 36872 1 37255 2 37639 2 37652 1 37655 ...</td>\n",
       "    </tr>\n",
       "    <tr>\n",
       "      <th>8</th>\n",
       "      <td>008fc8a.jpg_Fish</td>\n",
       "      <td>62624 1 62983 34 63367 36 63750 38 63789 2 641...</td>\n",
       "    </tr>\n",
       "    <tr>\n",
       "      <th>9</th>\n",
       "      <td>0096937.jpg_Fish</td>\n",
       "      <td>3583 1 3585 5 3958 3 3963 22 4338 36 4721 40 5...</td>\n",
       "    </tr>\n",
       "  </tbody>\n",
       "</table>\n",
       "</div>"
      ],
      "text/plain": [
       "        Image_Label                                      EncodedPixels\n",
       "0  002f507.jpg_Fish                                               None\n",
       "1  0035ae9.jpg_Fish                                               None\n",
       "2  0038327.jpg_Fish                                               None\n",
       "3  004f759.jpg_Fish                                               None\n",
       "4  005ba08.jpg_Fish                                               None\n",
       "5  006440a.jpg_Fish  9423 2 31514 8 31525 17 31895 39 31935 2 32274...\n",
       "6  006f61b.jpg_Fish  79615 2 79631 2 79999 2 80015 2 80383 2 80399 ...\n",
       "7  0078e5a.jpg_Fish  36488 1 36872 1 37255 2 37639 2 37652 1 37655 ...\n",
       "8  008fc8a.jpg_Fish  62624 1 62983 34 63367 36 63750 38 63789 2 641...\n",
       "9  0096937.jpg_Fish  3583 1 3585 5 3958 3 3963 22 4338 36 4721 40 5..."
      ]
     },
     "execution_count": 8,
     "metadata": {},
     "output_type": "execute_result"
    }
   ],
   "source": [
    "submission = pd.DataFrame(columns=submission_exampe.columns)\n",
    "submission[\"EncodedPixels\"] = encoded_pixels\n",
    "submission[\"Image_Label\"] = pd.Series([file_name + \"_Fish\" for file_name in test_files_list])\n",
    "submission.head(10)"
   ]
  },
  {
   "cell_type": "code",
   "execution_count": 9,
   "id": "6ca52ce9",
   "metadata": {},
   "outputs": [],
   "source": [
    "submission.to_csv('submission.csv.gz')"
   ]
  }
 ],
 "metadata": {
  "kernelspec": {
   "display_name": "Python 3 (ipykernel)",
   "language": "python",
   "name": "python3"
  },
  "language_info": {
   "codemirror_mode": {
    "name": "ipython",
    "version": 3
   },
   "file_extension": ".py",
   "mimetype": "text/x-python",
   "name": "python",
   "nbconvert_exporter": "python",
   "pygments_lexer": "ipython3",
   "version": "3.10.4"
  }
 },
 "nbformat": 4,
 "nbformat_minor": 5
}
